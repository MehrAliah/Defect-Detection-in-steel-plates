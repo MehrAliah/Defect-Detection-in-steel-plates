{
  "nbformat": 4,
  "nbformat_minor": 0,
  "metadata": {
    "colab": {
      "provenance": [],
      "gpuType": "T4",
      "toc_visible": true
    },
    "kernelspec": {
      "name": "python3",
      "display_name": "Python 3"
    },
    "language_info": {
      "name": "python"
    },
    "accelerator": "GPU",
    "gpuClass": "standard"
  },
  "cells": [
    {
      "cell_type": "markdown",
      "source": [
        "# **Importing Libraries**"
      ],
      "metadata": {
        "id": "EN2U3vGW8isZ"
      }
    },
    {
      "cell_type": "code",
      "execution_count": null,
      "metadata": {
        "id": "qanug91RtMgZ"
      },
      "outputs": [],
      "source": [
        "import tensorflow as tf\n",
        "from tensorflow import keras\n",
        "from keras import Sequential\n",
        "from keras.layers import Dense,Conv2D,MaxPooling2D,Flatten, BatchNormalization,Dropout\n",
        "import matplotlib.pyplot as plt\n",
        "from keras import callbacks\n",
        "import numpy as np\n",
        "from sklearn.metrics import classification_report, confusion_matrix, accuracy_score,ConfusionMatrixDisplay\n",
        "import seaborn as sns\n",
        "import cv2\n",
        "from tensorflow.keras.models import load_model\n",
        "from tensorflow.keras.callbacks import EarlyStopping\n",
        "from keras.preprocessing.image import ImageDataGenerator"
      ]
    },
    {
      "cell_type": "markdown",
      "source": [
        "# **Preprocessing**"
      ],
      "metadata": {
        "id": "9VEPAESv89Fr"
      }
    },
    {
      "cell_type": "code",
      "source": [
        "batch_size=16\n",
        "img_size=150\n",
        "train_datagen = ImageDataGenerator(\n",
        "                    rescale=1./255,\n",
        "                    rotation_range=30,\n",
        "                    shear_range=0.3,\n",
        "                    #zoom_range=0.3,\n",
        "                    width_shift_range = 0.1,\n",
        "                    height_shift_range = 0.1,\n",
        "                    horizontal_flip=True,\n",
        "                    validation_split=0.3)\n",
        "\n",
        "validation_datagen = ImageDataGenerator(rescale=1./255, validation_split=0.3)\n",
        "\n",
        "test_datagen = ImageDataGenerator(rescale=1./255)\n",
        "\n",
        "train_generator = train_datagen.flow_from_directory(\n",
        "        r\"/content/drive/MyDrive/steel dataset/train\",\n",
        "        target_size=(img_size, img_size),\n",
        "        color_mode =  'grayscale',\n",
        "        batch_size=batch_size,\n",
        "        class_mode='categorical',\n",
        "        subset = 'training')\n",
        "\n",
        "validation_generator = validation_datagen.flow_from_directory(\n",
        "        r\"/content/drive/MyDrive/steel dataset/train\",\n",
        "        target_size=(img_size, img_size),\n",
        "        color_mode =  'grayscale',\n",
        "        batch_size=batch_size,\n",
        "        class_mode='categorical',\n",
        "        subset='validation')\n",
        "\n",
        "test_generator = test_datagen.flow_from_directory(\n",
        "        r\"/content/drive/MyDrive/steel dataset/validation\",\n",
        "        target_size=(img_size, img_size),\n",
        "        color_mode =  'grayscale',\n",
        "        batch_size=batch_size,\n",
        "        class_mode='categorical',\n",
        "        shuffle = False)"
      ],
      "metadata": {
        "colab": {
          "base_uri": "https://localhost:8080/"
        },
        "id": "gVSw496Xu0FF",
        "outputId": "b143ea3c-2a67-4dff-ee4f-2b3cf505cd97"
      },
      "execution_count": null,
      "outputs": [
        {
          "output_type": "stream",
          "name": "stdout",
          "text": [
            "Found 1008 images belonging to 6 classes.\n",
            "Found 432 images belonging to 6 classes.\n",
            "Found 360 images belonging to 6 classes.\n"
          ]
        }
      ]
    },
    {
      "cell_type": "code",
      "source": [
        "train_generator.class_indices"
      ],
      "metadata": {
        "id": "ADDUXiie7Vy-",
        "colab": {
          "base_uri": "https://localhost:8080/"
        },
        "outputId": "43aacc81-0c04-4810-c05f-57f011263f11"
      },
      "execution_count": null,
      "outputs": [
        {
          "output_type": "execute_result",
          "data": {
            "text/plain": [
              "{'crazing': 0,\n",
              " 'inclusion': 1,\n",
              " 'patches': 2,\n",
              " 'pitted_surface': 3,\n",
              " 'rolled-in_scale': 4,\n",
              " 'scratches': 5}"
            ]
          },
          "metadata": {},
          "execution_count": 4
        }
      ]
    },
    {
      "cell_type": "markdown",
      "source": [
        "# **Applying callbacks and compiling**"
      ],
      "metadata": {
        "id": "GhrgOR0TylgE"
      }
    },
    {
      "cell_type": "code",
      "source": [
        "from keras.optimizers import Adam\n",
        "from keras.callbacks import ModelCheckpoint, EarlyStopping, ReduceLROnPlateau\n",
        "\n",
        "checkpoint_tuned = ModelCheckpoint(\"./model.h5\", monitor = 'val_acc', verbose = 1, save_best_only=True, mode='max')\n",
        "\n",
        "early_stopping = EarlyStopping(monitor = 'val_acc',\n",
        "                              min_delta=0,\n",
        "                              patience=3,\n",
        "                              verbose = 1,\n",
        "                              restore_best_weights=True\n",
        "                              )\n",
        "Reduce_learningrate = ReduceLROnPlateau(monitor = 'val_acc',\n",
        "                                       factor=0.2,\n",
        "                                       patience=3,\n",
        "                                       verbose = 1,\n",
        "                                       min_delta=0.0001\n",
        "                                       )\n",
        "callbacks_list_tuned = [checkpoint_tuned,Reduce_learningrate]\n",
        "\n",
        "epochs = 8\n",
        "\n",
        "model_tuned.compile(loss ='categorical_crossentropy',\n",
        "                    optimizer = Adam(learning_rate=0.0001),\n",
        "                    metrics=['accuracy'])\n"
      ],
      "metadata": {
        "id": "26tI8CGGz6qM"
      },
      "execution_count": null,
      "outputs": []
    },
    {
      "cell_type": "markdown",
      "source": [
        "# **fitting the model**"
      ],
      "metadata": {
        "id": "7MqnVhDHhcTT"
      }
    },
    {
      "cell_type": "code",
      "source": [
        "history_tuned = model_tuned.fit(train_generator,\n",
        "                                steps_per_epoch=train_generator.n//train_generator.batch_size,\n",
        "                                epochs=epochs,\n",
        "                                validation_data = validation_generator,\n",
        "                                validation_steps = validation_generator.n//validation_generator.batch_size,\n",
        "                                callbacks=callbacks_list_tuned\n",
        "                                )\n",
        "model_tuned.save('model.h5')"
      ],
      "metadata": {
        "colab": {
          "base_uri": "https://localhost:8080/"
        },
        "id": "ynzVJoIyhauP",
        "outputId": "c9c97431-174e-4a86-dd8b-44ba5252853e"
      },
      "execution_count": null,
      "outputs": [
        {
          "output_type": "stream",
          "name": "stdout",
          "text": [
            "Epoch 1/8\n",
            "63/63 [==============================] - ETA: 0s - loss: 25.5212 - accuracy: 0.5665"
          ]
        },
        {
          "output_type": "stream",
          "name": "stderr",
          "text": [
            "WARNING:tensorflow:Can save best model only with val_acc available, skipping.\n",
            "WARNING:tensorflow:Learning rate reduction is conditioned on metric `val_acc` which is not available. Available metrics are: loss,accuracy,val_loss,val_accuracy,lr\n"
          ]
        },
        {
          "output_type": "stream",
          "name": "stdout",
          "text": [
            "\b\b\b\b\b\b\b\b\b\b\b\b\b\b\b\b\b\b\b\b\b\b\b\b\b\b\b\b\b\b\b\b\b\b\b\b\b\b\b\b\b\b\b\b\b\b\b\b\b\b\b\b\b\b\b\b\b\b\b\b\b\b\b\b\b\b\b\b\b\b\b\b\b\b\b\b\b\b\b\b\b\b\b\r63/63 [==============================] - 283s 4s/step - loss: 25.5212 - accuracy: 0.5665 - val_loss: 25.9064 - val_accuracy: 0.2708 - lr: 1.0000e-04\n",
            "Epoch 2/8\n",
            "63/63 [==============================] - ETA: 0s - loss: 24.6281 - accuracy: 0.7004"
          ]
        },
        {
          "output_type": "stream",
          "name": "stderr",
          "text": [
            "WARNING:tensorflow:Can save best model only with val_acc available, skipping.\n",
            "WARNING:tensorflow:Learning rate reduction is conditioned on metric `val_acc` which is not available. Available metrics are: loss,accuracy,val_loss,val_accuracy,lr\n"
          ]
        },
        {
          "output_type": "stream",
          "name": "stdout",
          "text": [
            "\b\b\b\b\b\b\b\b\b\b\b\b\b\b\b\b\b\b\b\b\b\b\b\b\b\b\b\b\b\b\b\b\b\b\b\b\b\b\b\b\b\b\b\b\b\b\b\b\b\b\b\b\b\b\b\b\b\b\b\b\b\b\b\b\b\b\b\b\b\b\b\b\b\b\b\b\b\b\b\b\b\b\b\r63/63 [==============================] - 8s 121ms/step - loss: 24.6281 - accuracy: 0.7004 - val_loss: 26.9712 - val_accuracy: 0.2824 - lr: 1.0000e-04\n",
            "Epoch 3/8\n",
            "63/63 [==============================] - ETA: 0s - loss: 23.8609 - accuracy: 0.7688"
          ]
        },
        {
          "output_type": "stream",
          "name": "stderr",
          "text": [
            "WARNING:tensorflow:Can save best model only with val_acc available, skipping.\n",
            "WARNING:tensorflow:Learning rate reduction is conditioned on metric `val_acc` which is not available. Available metrics are: loss,accuracy,val_loss,val_accuracy,lr\n"
          ]
        },
        {
          "output_type": "stream",
          "name": "stdout",
          "text": [
            "\b\b\b\b\b\b\b\b\b\b\b\b\b\b\b\b\b\b\b\b\b\b\b\b\b\b\b\b\b\b\b\b\b\b\b\b\b\b\b\b\b\b\b\b\b\b\b\b\b\b\b\b\b\b\b\b\b\b\b\b\b\b\b\b\b\b\b\b\b\b\b\b\b\b\b\b\b\b\b\b\b\b\b\r63/63 [==============================] - 7s 110ms/step - loss: 23.8609 - accuracy: 0.7688 - val_loss: 26.3462 - val_accuracy: 0.2500 - lr: 1.0000e-04\n",
            "Epoch 4/8\n",
            "63/63 [==============================] - ETA: 0s - loss: 23.3211 - accuracy: 0.7560"
          ]
        },
        {
          "output_type": "stream",
          "name": "stderr",
          "text": [
            "WARNING:tensorflow:Can save best model only with val_acc available, skipping.\n",
            "WARNING:tensorflow:Learning rate reduction is conditioned on metric `val_acc` which is not available. Available metrics are: loss,accuracy,val_loss,val_accuracy,lr\n"
          ]
        },
        {
          "output_type": "stream",
          "name": "stdout",
          "text": [
            "\b\b\b\b\b\b\b\b\b\b\b\b\b\b\b\b\b\b\b\b\b\b\b\b\b\b\b\b\b\b\b\b\b\b\b\b\b\b\b\b\b\b\b\b\b\b\b\b\b\b\b\b\b\b\b\b\b\b\b\b\b\b\b\b\b\b\b\b\b\b\b\b\b\b\b\b\b\b\b\b\b\b\b\r63/63 [==============================] - 8s 123ms/step - loss: 23.3211 - accuracy: 0.7560 - val_loss: 25.5465 - val_accuracy: 0.2801 - lr: 1.0000e-04\n",
            "Epoch 5/8\n",
            "63/63 [==============================] - ETA: 0s - loss: 22.5781 - accuracy: 0.8115"
          ]
        },
        {
          "output_type": "stream",
          "name": "stderr",
          "text": [
            "WARNING:tensorflow:Can save best model only with val_acc available, skipping.\n",
            "WARNING:tensorflow:Learning rate reduction is conditioned on metric `val_acc` which is not available. Available metrics are: loss,accuracy,val_loss,val_accuracy,lr\n"
          ]
        },
        {
          "output_type": "stream",
          "name": "stdout",
          "text": [
            "\b\b\b\b\b\b\b\b\b\b\b\b\b\b\b\b\b\b\b\b\b\b\b\b\b\b\b\b\b\b\b\b\b\b\b\b\b\b\b\b\b\b\b\b\b\b\b\b\b\b\b\b\b\b\b\b\b\b\b\b\b\b\b\b\b\b\b\b\b\b\b\b\b\b\b\b\b\b\b\b\b\b\b\r63/63 [==============================] - 7s 105ms/step - loss: 22.5781 - accuracy: 0.8115 - val_loss: 26.1054 - val_accuracy: 0.3796 - lr: 1.0000e-04\n",
            "Epoch 6/8\n",
            "63/63 [==============================] - ETA: 0s - loss: 21.9774 - accuracy: 0.8075"
          ]
        },
        {
          "output_type": "stream",
          "name": "stderr",
          "text": [
            "WARNING:tensorflow:Can save best model only with val_acc available, skipping.\n",
            "WARNING:tensorflow:Learning rate reduction is conditioned on metric `val_acc` which is not available. Available metrics are: loss,accuracy,val_loss,val_accuracy,lr\n"
          ]
        },
        {
          "output_type": "stream",
          "name": "stdout",
          "text": [
            "\b\b\b\b\b\b\b\b\b\b\b\b\b\b\b\b\b\b\b\b\b\b\b\b\b\b\b\b\b\b\b\b\b\b\b\b\b\b\b\b\b\b\b\b\b\b\b\b\b\b\b\b\b\b\b\b\b\b\b\b\b\b\b\b\b\b\b\b\b\b\b\b\b\b\b\b\b\b\b\b\b\b\b\r63/63 [==============================] - 7s 103ms/step - loss: 21.9774 - accuracy: 0.8075 - val_loss: 26.8220 - val_accuracy: 0.2847 - lr: 1.0000e-04\n",
            "Epoch 7/8\n",
            "63/63 [==============================] - ETA: 0s - loss: 21.3309 - accuracy: 0.7986"
          ]
        },
        {
          "output_type": "stream",
          "name": "stderr",
          "text": [
            "WARNING:tensorflow:Can save best model only with val_acc available, skipping.\n",
            "WARNING:tensorflow:Learning rate reduction is conditioned on metric `val_acc` which is not available. Available metrics are: loss,accuracy,val_loss,val_accuracy,lr\n"
          ]
        },
        {
          "output_type": "stream",
          "name": "stdout",
          "text": [
            "\b\b\b\b\b\b\b\b\b\b\b\b\b\b\b\b\b\b\b\b\b\b\b\b\b\b\b\b\b\b\b\b\b\b\b\b\b\b\b\b\b\b\b\b\b\b\b\b\b\b\b\b\b\b\b\b\b\b\b\b\b\b\b\b\b\b\b\b\b\b\b\b\b\b\b\b\b\b\b\b\b\b\b\r63/63 [==============================] - 8s 122ms/step - loss: 21.3309 - accuracy: 0.7986 - val_loss: 28.9211 - val_accuracy: 0.3704 - lr: 1.0000e-04\n",
            "Epoch 8/8\n",
            "63/63 [==============================] - ETA: 0s - loss: 20.6064 - accuracy: 0.8075"
          ]
        },
        {
          "output_type": "stream",
          "name": "stderr",
          "text": [
            "WARNING:tensorflow:Can save best model only with val_acc available, skipping.\n",
            "WARNING:tensorflow:Learning rate reduction is conditioned on metric `val_acc` which is not available. Available metrics are: loss,accuracy,val_loss,val_accuracy,lr\n"
          ]
        },
        {
          "output_type": "stream",
          "name": "stdout",
          "text": [
            "\b\b\b\b\b\b\b\b\b\b\b\b\b\b\b\b\b\b\b\b\b\b\b\b\b\b\b\b\b\b\b\b\b\b\b\b\b\b\b\b\b\b\b\b\b\b\b\b\b\b\b\b\b\b\b\b\b\b\b\b\b\b\b\b\b\b\b\b\b\b\b\b\b\b\b\b\b\b\b\b\b\b\b\r63/63 [==============================] - 7s 106ms/step - loss: 20.6064 - accuracy: 0.8075 - val_loss: 27.0501 - val_accuracy: 0.3588 - lr: 1.0000e-04\n"
          ]
        }
      ]
    },
    {
      "cell_type": "markdown",
      "source": [
        "**Comparing Loss**"
      ],
      "metadata": {
        "id": "RiCFT6aIjIoj"
      }
    },
    {
      "cell_type": "code",
      "source": [
        "#comparing loss\n",
        "plt.plot(history_tuned.history['loss'], label='Training Loss',color='red')\n",
        "plt.plot(history_tuned.history['val_loss'], label='Validation Loss',color='blue')\n",
        "plt.legend()\n",
        "plt.show()"
      ],
      "metadata": {
        "id": "LRO5K9PjjFOQ",
        "colab": {
          "base_uri": "https://localhost:8080/",
          "height": 430
        },
        "outputId": "4c6a0da7-a2ee-4ac5-eba1-0402de4c391b"
      },
      "execution_count": null,
      "outputs": [
        {
          "output_type": "display_data",
          "data": {
            "text/plain": [
              "<Figure size 640x480 with 1 Axes>"
            ],
            "image/png": "[encoded data removed]"
          },
          "metadata": {}
        }
      ]
    },
    {
      "cell_type": "markdown",
      "source": [
        "**Comparing Accuracy**"
      ],
      "metadata": {
        "id": "ZH8-TVmkkLXc"
      }
    },
    {
      "cell_type": "code",
      "source": [
        "#comparing accuracy\n",
        "plt.plot(history_tuned.history['accuracy'], label='Training accuracy',color='red')\n",
        "plt.plot(history_tuned.history['val_accuracy'], label='Validation accuracy',color='blue')\n",
        "plt.legend()\n",
        "plt.show()"
      ],
      "metadata": {
        "id": "XdjR6-0LkRBC",
        "colab": {
          "base_uri": "https://localhost:8080/",
          "height": 430
        },
        "outputId": "94f7c94e-d9cb-4e08-b923-e78f9ae38df4"
      },
      "execution_count": null,
      "outputs": [
        {
          "output_type": "display_data",
          "data": {
            "text/plain": [
              "<Figure size 640x480 with 1 Axes>"
            ],
            "image/png": "[encoded data removed]"
          },
          "metadata": {}
        }
      ]
    }
  ]
}