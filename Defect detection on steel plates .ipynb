{
 "cells": [
  {
   "cell_type": "markdown",
   "id": "7e2d8ca9",
   "metadata": {},
   "source": [
    "  # **Importing Libraries**"
   ]
  },
  {
   "cell_type": "code",
   "execution_count": 25,
   "id": "b3bad3bd",
   "metadata": {},
   "outputs": [],
   "source": [
    "import tensorflow as tf\n",
    "from tensorflow import keras\n",
    "from keras import Sequential\n",
    "from keras.layers import Dense,Conv2D,MaxPooling2D,Flatten, BatchNormalization,Dropout, GlobalAveragePooling2D\n",
    "import matplotlib.pyplot as plt\n",
    "from keras import callbacks\n",
    "import numpy as np\n",
    "from sklearn.metrics import classification_report, confusion_matrix, accuracy_score,ConfusionMatrixDisplay\n",
    "import seaborn as sns\n",
    "import cv2\n",
    "from tensorflow.keras.models import load_model\n",
    "from tensorflow.keras.callbacks import EarlyStopping\n",
    "from keras.preprocessing.image import ImageDataGenerator\n",
    "from tensorflow.keras.applications import VGG16"
   ]
  },
  {
   "cell_type": "markdown",
   "id": "17ba997b",
   "metadata": {},
   "source": [
    "# **Preprocessing**"
   ]
  },
  {
   "cell_type": "code",
   "execution_count": 26,
   "id": "f71a8927",
   "metadata": {},
   "outputs": [
    {
     "name": "stdout",
     "output_type": "stream",
     "text": [
      "Found 8960 images belonging to 6 classes.\n",
      "Found 3837 images belonging to 6 classes.\n",
      "Found 360 images belonging to 6 classes.\n"
     ]
    }
   ],
   "source": [
    "batch_size=16\n",
    "img_size=150\n",
    "train_datagen = ImageDataGenerator(\n",
    "                    rescale=1./255,\n",
    "                    rotation_range=30,\n",
    "                    shear_range=0.3,\n",
    "                    #zoom_range=0.3,\n",
    "                    width_shift_range = 0.1,\n",
    "                    height_shift_range = 0.1,\n",
    "                    horizontal_flip=True,\n",
    "                    validation_split=0.3)\n",
    "\n",
    "validation_datagen = ImageDataGenerator(rescale=1./255, validation_split=0.3)\n",
    "\n",
    "test_datagen = ImageDataGenerator(rescale=1./255)\n",
    "\n",
    "train_generator = train_datagen.flow_from_directory(\n",
    "        r\"D:\\Internship\\archive\\train with 10 aug\",\n",
    "        target_size=(img_size, img_size),\n",
    "        color_mode =  'grayscale',\n",
    "        batch_size=batch_size,\n",
    "        class_mode='categorical',\n",
    "        subset = 'training')\n",
    "\n",
    "validation_generator = validation_datagen.flow_from_directory(\n",
    "        r\"D:\\Internship\\archive\\train with 10 aug\",\n",
    "        target_size=(img_size, img_size),\n",
    "        color_mode =  'grayscale',\n",
    "        batch_size=batch_size,\n",
    "        class_mode='categorical',\n",
    "        subset='validation')\n",
    "\n",
    "test_generator = test_datagen.flow_from_directory(\n",
    "        r\"D:\\Internship\\archive\\validation\",\n",
    "        target_size=(img_size, img_size),\n",
    "        color_mode =  'grayscale',\n",
    "        batch_size=batch_size,\n",
    "        class_mode='categorical',\n",
    "        shuffle = False)"
   ]
  },
  {
   "cell_type": "code",
   "execution_count": 27,
   "id": "111e6a4e",
   "metadata": {},
   "outputs": [
    {
     "data": {
      "text/plain": [
       "{'crazing': 0,\n",
       " 'inclusion': 1,\n",
       " 'patches': 2,\n",
       " 'pitted_surface': 3,\n",
       " 'rolled-in_scale': 4,\n",
       " 'scratches': 5}"
      ]
     },
     "execution_count": 27,
     "metadata": {},
     "output_type": "execute_result"
    }
   ],
   "source": [
    "train_generator.class_indices"
   ]
  },
  {
   "cell_type": "markdown",
   "id": "432bcaeb",
   "metadata": {},
   "source": [
    "# **Applying callbacks and compiling**"
   ]
  },
  {
   "cell_type": "code",
   "execution_count": 29,
   "id": "59bee2de",
   "metadata": {},
   "outputs": [],
   "source": [
    "from keras.optimizers import Adam\n",
    "from keras.callbacks import ModelCheckpoint, EarlyStopping, ReduceLROnPlateau\n",
    "\n",
    "checkpoint_tuned = ModelCheckpoint(\"./model-11.h5\", monitor = 'val_accuracy', verbose = 1, save_best_only=True, mode='max')\n",
    "\n",
    "early_stopping = EarlyStopping(monitor = 'val_accuracy',\n",
    "                              min_delta=0,\n",
    "                              patience=3,\n",
    "                              verbose = 1,\n",
    "                              restore_best_weights=True\n",
    "                              )\n",
    "Reduce_learningrate = ReduceLROnPlateau(monitor = 'val_accuracy',\n",
    "                                       factor=0.2,\n",
    "                                       patience=3,\n",
    "                                       verbose = 1,\n",
    "                                       min_delta=0.0001\n",
    "                                       )\n",
    "callbacks_list_tuned = [checkpoint_tuned,Reduce_learningrate]\n",
    "\n",
    "epochs = 10\n",
    "\n",
    "model_tuned.compile(loss ='categorical_crossentropy',\n",
    "                    optimizer = Adam(learning_rate=0.0001),\n",
    "                    metrics=['accuracy'])"
   ]
  },
  {
   "cell_type": "markdown",
   "id": "6ecad4f5",
   "metadata": {},
   "source": [
    "# **fitting the model**"
   ]
  },
  {
   "cell_type": "code",
   "execution_count": 30,
   "id": "66fb239a",
   "metadata": {},
   "outputs": [
    {
     "name": "stdout",
     "output_type": "stream",
     "text": [
      "Epoch 1/10\n",
      "560/560 [==============================] - ETA: 0s - loss: 29.8538 - accuracy: 0.5260\n",
      "Epoch 1: val_accuracy improved from -inf to 0.33054, saving model to .\\model-11.h5\n",
      "560/560 [==============================] - 880s 2s/step - loss: 29.8538 - accuracy: 0.5260 - val_loss: 31.3048 - val_accuracy: 0.3305 - lr: 1.0000e-04\n",
      "Epoch 2/10\n",
      "560/560 [==============================] - ETA: 0s - loss: 26.8336 - accuracy: 0.6778\n",
      "Epoch 2: val_accuracy did not improve from 0.33054\n",
      "560/560 [==============================] - 836s 1s/step - loss: 26.8336 - accuracy: 0.6778 - val_loss: 38.1742 - val_accuracy: 0.2845 - lr: 1.0000e-04\n",
      "Epoch 3/10\n",
      "560/560 [==============================] - ETA: 0s - loss: 23.6455 - accuracy: 0.7565\n",
      "Epoch 3: val_accuracy improved from 0.33054 to 0.35068, saving model to .\\model-11.h5\n",
      "560/560 [==============================] - 878s 2s/step - loss: 23.6455 - accuracy: 0.7565 - val_loss: 25.6954 - val_accuracy: 0.3507 - lr: 1.0000e-04\n",
      "Epoch 4/10\n",
      "560/560 [==============================] - ETA: 0s - loss: 20.3655 - accuracy: 0.8098\n",
      "Epoch 4: val_accuracy improved from 0.35068 to 0.60826, saving model to .\\model-11.h5\n",
      "560/560 [==============================] - 811s 1s/step - loss: 20.3655 - accuracy: 0.8098 - val_loss: 20.8622 - val_accuracy: 0.6083 - lr: 1.0000e-04\n",
      "Epoch 5/10\n",
      "560/560 [==============================] - ETA: 0s - loss: 17.1582 - accuracy: 0.8448\n",
      "Epoch 5: val_accuracy improved from 0.60826 to 0.61323, saving model to .\\model-11.h5\n",
      "560/560 [==============================] - 790s 1s/step - loss: 17.1582 - accuracy: 0.8448 - val_loss: 16.9540 - val_accuracy: 0.6132 - lr: 1.0000e-04\n",
      "Epoch 6/10\n",
      "560/560 [==============================] - ETA: 0s - loss: 14.1760 - accuracy: 0.8695\n",
      "Epoch 6: val_accuracy improved from 0.61323 to 0.74503, saving model to .\\model-11.h5\n",
      "560/560 [==============================] - 774s 1s/step - loss: 14.1760 - accuracy: 0.8695 - val_loss: 13.3135 - val_accuracy: 0.7450 - lr: 1.0000e-04\n",
      "Epoch 7/10\n",
      "560/560 [==============================] - ETA: 0s - loss: 11.4587 - accuracy: 0.8849\n",
      "Epoch 7: val_accuracy improved from 0.74503 to 0.78504, saving model to .\\model-11.h5\n",
      "560/560 [==============================] - 771s 1s/step - loss: 11.4587 - accuracy: 0.8849 - val_loss: 10.5203 - val_accuracy: 0.7850 - lr: 1.0000e-04\n",
      "Epoch 8/10\n",
      "560/560 [==============================] - ETA: 0s - loss: 9.1163 - accuracy: 0.8948\n",
      "Epoch 8: val_accuracy did not improve from 0.78504\n",
      "560/560 [==============================] - 771s 1s/step - loss: 9.1163 - accuracy: 0.8948 - val_loss: 9.3350 - val_accuracy: 0.7055 - lr: 1.0000e-04\n",
      "Epoch 9/10\n",
      "560/560 [==============================] - ETA: 0s - loss: 7.1589 - accuracy: 0.9096\n",
      "Epoch 9: val_accuracy did not improve from 0.78504\n",
      "560/560 [==============================] - 827s 1s/step - loss: 7.1589 - accuracy: 0.9096 - val_loss: 7.0026 - val_accuracy: 0.7691 - lr: 1.0000e-04\n",
      "Epoch 10/10\n",
      "560/560 [==============================] - ETA: 0s - loss: 5.6087 - accuracy: 0.9147\n",
      "Epoch 10: val_accuracy improved from 0.78504 to 0.90717, saving model to .\\model-11.h5\n",
      "560/560 [==============================] - 883s 2s/step - loss: 5.6087 - accuracy: 0.9147 - val_loss: 5.0541 - val_accuracy: 0.9072 - lr: 1.0000e-04\n"
     ]
    }
   ],
   "source": [
    "history_tuned = model_tuned.fit(train_generator,\n",
    "                                steps_per_epoch=train_generator.n//train_generator.batch_size,\n",
    "                                epochs=epochs,\n",
    "                                validation_data = validation_generator,\n",
    "                                validation_steps = validation_generator.n//validation_generator.batch_size,\n",
    "                                callbacks=callbacks_list_tuned\n",
    "                                )\n",
    "model_tuned.save('model-12.h5')"
   ]
  },
  {
   "cell_type": "markdown",
   "id": "b79eadf6",
   "metadata": {},
   "source": [
    "**Comparing Loss**"
   ]
  },
  {
   "cell_type": "code",
   "execution_count": 31,
   "id": "ed00e768",
   "metadata": {},
   "outputs": [
    {
     "data": {
      "image/png": "[encoded data removed]",
      "text/plain": [
       "<Figure size 432x288 with 1 Axes>"
      ]
     },
     "metadata": {
      "needs_background": "light"
     },
     "output_type": "display_data"
    }
   ],
   "source": [
    "#comparing loss\n",
    "plt.plot(history_tuned.history['loss'], label='Training Loss',color='red')\n",
    "plt.plot(history_tuned.history['val_loss'], label='Validation Loss',color='blue')\n",
    "plt.legend()\n",
    "plt.show()"
   ]
  },
  {
   "cell_type": "markdown",
   "id": "06c16f57",
   "metadata": {},
   "source": [
    "**Comparing Accuracy**"
   ]
  },
  {
   "cell_type": "code",
   "execution_count": 32,
   "id": "d0a9c486",
   "metadata": {},
   "outputs": [
    {
     "data": {
      "image/png": "[encoded data removed]",
      "text/plain": [
       "<Figure size 432x288 with 1 Axes>"
      ]
     },
     "metadata": {
      "needs_background": "light"
     },
     "output_type": "display_data"
    }
   ],
   "source": [
    "#comparing accuracy\n",
    "plt.plot(history_tuned.history['accuracy'], label='Training accuracy',color='red')\n",
    "plt.plot(history_tuned.history['val_accuracy'], label='Validation accuracy',color='blue')\n",
    "plt.legend()\n",
    "plt.show()"
   ]
  },
  {
   "cell_type": "code",
   "execution_count": null,
   "id": "0e83e0a0",
   "metadata": {},
   "outputs": [],
   "source": []
  }
 ],
 "metadata": {
  "kernelspec": {
   "display_name": "Python 3 (ipykernel)",
   "language": "python",
   "name": "python3"
  },
  "language_info": {
   "codemirror_mode": {
    "name": "ipython",
    "version": 3
   },
   "file_extension": ".py",
   "mimetype": "text/x-python",
   "name": "python",
   "nbconvert_exporter": "python",
   "pygments_lexer": "ipython3",
   "version": "3.9.12"
  }
 },
 "nbformat": 4,
 "nbformat_minor": 5
}
